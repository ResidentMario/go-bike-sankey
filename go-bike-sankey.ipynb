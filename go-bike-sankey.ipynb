{
 "cells": [
  {
   "cell_type": "markdown",
   "metadata": {},
   "source": [
    "## Part 1&mdash;Constructing a station pairs dataset"
   ]
  },
  {
   "cell_type": "code",
   "execution_count": 1,
   "metadata": {},
   "outputs": [],
   "source": [
    "from zipfile import ZipFile\n",
    "z = ZipFile(\"/Users/alex/Downloads/201811-fordgobike-tripdata.csv.zip\")"
   ]
  },
  {
   "cell_type": "code",
   "execution_count": 2,
   "metadata": {},
   "outputs": [],
   "source": [
    "z.extractall(\"./data/input/\")"
   ]
  },
  {
   "cell_type": "code",
   "execution_count": 3,
   "metadata": {},
   "outputs": [
    {
     "name": "stdout",
     "output_type": "stream",
     "text": [
      "201811-fordgobike-tripdata.csv\r\n"
     ]
    }
   ],
   "source": [
    "%ls ./data/input"
   ]
  },
  {
   "cell_type": "code",
   "execution_count": 307,
   "metadata": {},
   "outputs": [],
   "source": [
    "# classify stations by city\n",
    "from sklearn.cluster import KMeans\n",
    "station_coords = (df[['end_station_latitude', 'end_station_longitude']]\n",
    "                  .apply(lambda v: tuple(v), axis='columns')\n",
    "                  .unique())\n",
    "X = np.stack([[p[0] for p in station_coords], [p[1] for p in station_coords]], axis=1)\n",
    "clf = KMeans(n_clusters=3)\n",
    "clf.fit(X)\n",
    "del station_coords\n",
    "del X\n",
    "\n",
    "\n",
    "# routine for finding trip inverses in the dataset\n",
    "# slow, as it doesn't use an index, but adequate\n",
    "def find_reverse_route_srs(df, route_srs):\n",
    "    \"\"\"\n",
    "    Given a route extracted from the dataframe as input finds its inverse.\n",
    "    Including how many times it occurred in the dataset.\n",
    "    If the inverse never occurred None will be returned.\n",
    "    \"\"\"\n",
    "    ss_id, es_id = [route_srs['start_station_id'], route_srs['end_station_id']]\n",
    "    results = df.query(f\"start_station_id == {es_id} & end_station_id == {ss_id}\")\n",
    "    if len(results) == 1:\n",
    "        return results.index[0]\n",
    "    else:\n",
    "        return np.nan\n",
    "\n",
    "    \n",
    "# routine for adding reverse trip counts to trip counts\n",
    "def update_n(df, srs):\n",
    "    if pd.notnull(srs['mirror_route_idx']):\n",
    "        srs['n'] += int(df.iloc[int(srs['mirror_route_idx'])]['n'])\n",
    "    return srs\n",
    "\n",
    "\n",
    "# create intermediary folder before we construct the data\n",
    "!mkdir data/intermediary 2>/dev/null\n",
    "\n",
    "\n",
    "# construct the data and save it to disk\n",
    "(df\n",
    "     # drop trips missing information---these probably correspond with rebalancing runs\n",
    "     .dropna(subset=['end_station_name', 'start_station_name', 'end_station_id', 'start_station_id'],\n",
    "             axis='rows')\n",
    "     # assign counts to station pairs\n",
    "     .assign(n=0) \n",
    "     .groupby(['start_station_name', 'start_station_id', 'start_station_latitude', 'start_station_longitude', \n",
    "               'end_station_name', 'end_station_id', 'end_station_latitude', 'end_station_longitude'])\n",
    "     .count()\n",
    "     .reset_index()\n",
    "     .loc[:, ['start_station_name', 'start_station_id', 'start_station_latitude', 'start_station_longitude', \n",
    "              'end_station_name', 'end_station_id', 'end_station_latitude', 'end_station_longitude', \n",
    "              'n']]\n",
    "     # assign station city\n",
    "     .pipe(lambda df: df.assign(\n",
    "         start_station_area=clf.predict(df[['start_station_latitude', 'start_station_longitude']]),\n",
    "         end_station_area=clf.predict(df[['end_station_latitude', 'end_station_longitude']])\n",
    "     ))\n",
    "     # map station city id to human-readable value\n",
    "     .pipe(lambda df: df.assign(\n",
    "         start_station_area=df.start_station_area.map(\n",
    "             lambda n: 'San Francisco' if n == 0 else 'San Jose' if n == 1 else 'East Bay'\n",
    "         ),\n",
    "         end_station_area=df.end_station_area.map(\n",
    "             lambda n: 'San Francisco' if n == 0 else 'San Jose' if n == 1 else 'East Bay'\n",
    "         )         \n",
    "     ))\n",
    "     # drop inter-area traffic\n",
    "     .query('start_station_area == end_station_area')\n",
    "     # remove trips that start and end at the same station\n",
    "     .query('start_station_id != end_station_id')\n",
    "     # drop San Jose\n",
    "     .query('start_station_area != \"San Jose\"')\n",
    "     # reset the index so that index lookups will work\n",
    "     .reset_index(drop=True)   \n",
    "     # assign mirror station idxs\n",
    "     .pipe(lambda df: df.assign(\n",
    "         mirror_route_idx=df.apply(\n",
    "             lambda srs: find_reverse_route_srs(df, srs), axis='columns'\n",
    "         )\n",
    "     ))\n",
    "     # user mirror station idxs to double up trip counts\n",
    "     .pipe(lambda df: df.apply(lambda srs: update_n(df, srs), axis='columns'))\n",
    "     # abritrarily drop trips whose start station ids are higher than their stop station ids\n",
    "     # trips have been doubled up already\n",
    "     .query(\"start_station_id > end_station_id\")\n",
    "     .drop('mirror_route_idx', axis='columns')\n",
    "     # reset index again\n",
    "     .reset_index(drop=True)\n",
    "     # modify names to reflect updated data contents\n",
    "     .rename(columns={\n",
    "         'start_station_name': 'station_1_name',\n",
    "         'start_station_id': 'station_1_id',\n",
    "         'start_station_latitude': 'station_1_latitude',\n",
    "         'start_station_longitude': 'station_1_longitude',\n",
    "         'end_station_name': 'station_2_name',\n",
    "         'end_station_id': 'station_2_id',\n",
    "         'end_station_latitude': 'station_2_latitude',\n",
    "         'end_station_longitude': 'station_2_longitude',\n",
    "         'start_station_area': 'station_pair_area'\n",
    "     })\n",
    "     .drop('end_station_area', axis='columns')\n",
    "     # save to file\n",
    "     .to_csv(\"./data/intermediary/trip_pair_counts.csv\")\n",
    ")"
   ]
  },
  {
   "cell_type": "markdown",
   "metadata": {},
   "source": [
    "## Part 2&mdash;Gathering interstation route data"
   ]
  },
  {
   "cell_type": "markdown",
   "metadata": {},
   "source": [
    "It'd be super fast to use OSMnx and a shortest-path algorithm, but that would not adapt the trip path for traffic patterns or for cycling routes, which is far too important to exclude.\n",
    "\n",
    "In NYC I did this using Google Maps. But the Google Maps API has changed and also I just don't like Google that much. Given an alternative that uses OpenStreetMaps I will always prefer the OSM option. So instead I'm using [openrouteservice](https://openrouteservice.org/)."
   ]
  },
  {
   "cell_type": "markdown",
   "metadata": {},
   "source": [
    "* We are limited to 2.5k requests/day (same limit that used to exist on Google Maps) but our list of station pairs is significantly (but not untenably) larger than that. So we will need to cache intermediate results.\n",
    "* Interestingly their query speed rate limit is 40 requests per minute, e.g. less than one per second, which is kind of strange honestly. Requires a bit over an hour of runtime to exhaust the query limit the if we are nice.\n",
    "* Each routing request actually solves for ~2 routes, as it solves the route the other way as well. Not all routes have backwards couplings, but most do, hence probably almost 2."
   ]
  },
  {
   "cell_type": "markdown",
   "metadata": {},
   "source": [
    "Assuming conservatively that 2500 requests compeletes 4000 trip routes we will need to run through the data on five separate days to get all of the API responses we need."
   ]
  },
  {
   "cell_type": "code",
   "execution_count": 348,
   "metadata": {},
   "outputs": [],
   "source": [
    "trip_pair_counts = pd.read_csv(\"./data/intermediary/trip_pair_counts.csv\", index_col=0)\n",
    "\n",
    "with open(\"openrouteservice_key\", \"r\") as f:\n",
    "    api_key = f.read().rstrip(\"\\n\")\n",
    "    \n",
    "import openrouteservice\n",
    "client = openrouteservice.Client(key=api_key)\n",
    "\n",
    "import ratelim\n",
    "from checkpoints import checkpoints\n",
    "checkpoints.enable()\n",
    "\n",
    "from tqdm import tqdm_notebook\n",
    "\n",
    "\n",
    "@ratelim.patient(40, 60)\n",
    "def get_directions(srs):\n",
    "    start_lat, start_long, end_lat, end_long = [\n",
    "        srs['station_1_latitude'], srs['station_1_longitude'], \n",
    "        srs['station_2_latitude'], srs['station_2_longitude']\n",
    "    ]\n",
    "    params = ((start_long, start_lat), (end_long, end_lat))\n",
    "    \n",
    "    response = client.directions(params, profile='cycling-road')\n",
    "    return response"
   ]
  },
  {
   "cell_type": "markdown",
   "metadata": {},
   "source": [
    "The following LOC need to be run on separate days due to the API limit (2500 requests/day, reset on the _European_ clock)."
   ]
  },
  {
   "cell_type": "code",
   "execution_count": 349,
   "metadata": {},
   "outputs": [],
   "source": [
    "first_2400 = trip_pair_counts.iloc[0:2400]"
   ]
  },
  {
   "cell_type": "code",
   "execution_count": 350,
   "metadata": {},
   "outputs": [],
   "source": [
    "first_2000_responses = trip_pair_counts.iloc[0:2000]\\\n",
    "    .safe_apply(get_directions, axis='columns')"
   ]
  },
  {
   "cell_type": "code",
   "execution_count": 365,
   "metadata": {
    "scrolled": true
   },
   "outputs": [],
   "source": [
    "second_2400_responses = trip_pair_counts.iloc[2000:4400]\\\n",
    "    .safe_apply(get_directions, axis='columns')"
   ]
  },
  {
   "cell_type": "code",
   "execution_count": 367,
   "metadata": {},
   "outputs": [],
   "source": [
    "third_2400_responses = trip_pair_counts.iloc[4400:6800]\\\n",
    "    .safe_apply(get_directions, axis='columns')"
   ]
  },
  {
   "cell_type": "code",
   "execution_count": 373,
   "metadata": {},
   "outputs": [],
   "source": [
    "last_responses = trip_pair_counts.iloc[6800:]\\\n",
    "    .safe_apply(get_directions, axis='columns')"
   ]
  },
  {
   "cell_type": "code",
   "execution_count": 379,
   "metadata": {},
   "outputs": [],
   "source": [
    "network = pd.concat(\n",
    "    [first_2000_responses, second_2400_responses, third_2400_responses, last_responses]\n",
    ")"
   ]
  },
  {
   "cell_type": "code",
   "execution_count": 392,
   "metadata": {},
   "outputs": [],
   "source": [
    "network.to_json('data/intermediary/network.json', orient='records', lines=True)"
   ]
  },
  {
   "cell_type": "markdown",
   "metadata": {},
   "source": [
    "## Part 3&mdash;Constructing legwise data\n",
    "\n",
    "We now have the interstation trip definitions. These definitions are divided into straight-line segments known as legs. Many interstation trips share legs, and our objective is to show trip volume on _all combined legs_."
   ]
  },
  {
   "cell_type": "code",
   "execution_count": 395,
   "metadata": {},
   "outputs": [],
   "source": [
    "network_df = pd.read_json('data/intermediary/network.json', orient='records', lines=True)\n",
    "trip_volume_df = pd.read_csv(\"./data/intermediary/trip_pair_counts.csv\", index_col=0)"
   ]
  },
  {
   "cell_type": "code",
   "execution_count": 482,
   "metadata": {},
   "outputs": [],
   "source": [
    "import polyline\n",
    "\n",
    "def collate_segments(pl):\n",
    "    segments = []\n",
    "    \n",
    "    for idx in range(1, len(pl)):\n",
    "        s, e = pl[idx - 1], pl[idx]\n",
    "        segment_id = ((s, e))\n",
    "        segments.append(segment_id)\n",
    "\n",
    "    return segments\n",
    "\n",
    "def generate_segment_id_map(pls):\n",
    "    mp = {}\n",
    "    c = 1\n",
    "    \n",
    "    for pl in pls:\n",
    "        for p in pl:\n",
    "            if p in mp:\n",
    "                pass\n",
    "            else:\n",
    "                mp[p] = c\n",
    "                c += 1\n",
    "                \n",
    "    segment_id_map = mp\n",
    "    return mp\n",
    "\n",
    "def appy_segment_id_map(pls, mp):\n",
    "    for idx, pl in pls.iteritems():\n",
    "        pls[idx] = [mp[p] for p in pl]\n",
    "    return pls\n",
    "    \n",
    "def generate_legwise_volume_map(trip_volumes, trip_legs):\n",
    "    mp = {}\n",
    "    for tv, tls in zip(trip_volumes, trip_legs):\n",
    "        for tl in tls:\n",
    "            if tl not in mp:\n",
    "                mp[tl] = tv\n",
    "            else:\n",
    "                mp[tl] += tv\n",
    "    return mp\n",
    "\n",
    "\n",
    "segments = (\n",
    "    network_df\n",
    "        .routes.map(lambda routes: routes[0]['geometry'])\n",
    "        .map(lambda l: polyline.decode(l))\n",
    "        .map(collate_segments)\n",
    ")\n",
    "segment_id_map = generate_segment_id_map(segments)\n",
    "legwise_volume_map = generate_legwise_volume_map(\n",
    "    trip_volume_df.n,\n",
    "    segments\n",
    ")\n",
    "legwise_df = pd.DataFrame(\n",
    "    [[leg[0][0], leg[0][1], leg[1][0], leg[1][1], n] for leg, n in legwise_volume_map.items()],\n",
    "    columns=['p1_lat', 'p1_long', 'p2_lat', 'p2_long', 'n']\n",
    ")\n",
    "del segments\n",
    "del segment_id_map\n",
    "del legwise_volume_map"
   ]
  },
  {
   "cell_type": "markdown",
   "metadata": {},
   "source": [
    "We still need to assign where the points are, East Bay or San Francisco? We can KMeans again to find out."
   ]
  },
  {
   "cell_type": "code",
   "execution_count": 559,
   "metadata": {},
   "outputs": [],
   "source": [
    "from sklearn.cluster import KMeans\n",
    "\n",
    "X = legwise_df.values[:, :2]\n",
    "clf = KMeans(n_clusters=2)\n",
    "clf.fit(X)\n",
    "y = clf.predict(legwise_df.values[:, :2])"
   ]
  },
  {
   "cell_type": "code",
   "execution_count": 569,
   "metadata": {},
   "outputs": [],
   "source": [
    "legwise_df = legwise_df.assign(region=['San Francisco' if _y == 0 else 'East Bay' for _y in y])"
   ]
  },
  {
   "cell_type": "code",
   "execution_count": 570,
   "metadata": {},
   "outputs": [],
   "source": [
    "legwise_df.to_csv(\"data/output/legs.csv\", index=False)"
   ]
  },
  {
   "cell_type": "markdown",
   "metadata": {},
   "source": [
    "Some final verification to make sure we have what we want to have..."
   ]
  },
  {
   "cell_type": "code",
   "execution_count": 2,
   "metadata": {},
   "outputs": [],
   "source": [
    "import pandas as pd\n",
    "legwise_df = pd.read_csv(\"data/output/legs.csv\")"
   ]
  },
  {
   "cell_type": "code",
   "execution_count": 3,
   "metadata": {},
   "outputs": [
    {
     "data": {
      "text/html": [
       "<div>\n",
       "<style scoped>\n",
       "    .dataframe tbody tr th:only-of-type {\n",
       "        vertical-align: middle;\n",
       "    }\n",
       "\n",
       "    .dataframe tbody tr th {\n",
       "        vertical-align: top;\n",
       "    }\n",
       "\n",
       "    .dataframe thead th {\n",
       "        text-align: right;\n",
       "    }\n",
       "</style>\n",
       "<table border=\"1\" class=\"dataframe\">\n",
       "  <thead>\n",
       "    <tr style=\"text-align: right;\">\n",
       "      <th></th>\n",
       "      <th>p1_lat</th>\n",
       "      <th>p1_long</th>\n",
       "      <th>p2_lat</th>\n",
       "      <th>p2_long</th>\n",
       "      <th>n</th>\n",
       "      <th>region</th>\n",
       "    </tr>\n",
       "  </thead>\n",
       "  <tbody>\n",
       "    <tr>\n",
       "      <th>0</th>\n",
       "      <td>37.79272</td>\n",
       "      <td>-122.24879</td>\n",
       "      <td>37.79252</td>\n",
       "      <td>-122.24909</td>\n",
       "      <td>61</td>\n",
       "      <td>East Bay</td>\n",
       "    </tr>\n",
       "    <tr>\n",
       "      <th>1</th>\n",
       "      <td>37.79252</td>\n",
       "      <td>-122.24909</td>\n",
       "      <td>37.79246</td>\n",
       "      <td>-122.24917</td>\n",
       "      <td>61</td>\n",
       "      <td>East Bay</td>\n",
       "    </tr>\n",
       "    <tr>\n",
       "      <th>2</th>\n",
       "      <td>37.79246</td>\n",
       "      <td>-122.24917</td>\n",
       "      <td>37.79208</td>\n",
       "      <td>-122.24971</td>\n",
       "      <td>61</td>\n",
       "      <td>East Bay</td>\n",
       "    </tr>\n",
       "  </tbody>\n",
       "</table>\n",
       "</div>"
      ],
      "text/plain": [
       "     p1_lat    p1_long    p2_lat    p2_long   n    region\n",
       "0  37.79272 -122.24879  37.79252 -122.24909  61  East Bay\n",
       "1  37.79252 -122.24909  37.79246 -122.24917  61  East Bay\n",
       "2  37.79246 -122.24917  37.79208 -122.24971  61  East Bay"
      ]
     },
     "execution_count": 3,
     "metadata": {},
     "output_type": "execute_result"
    }
   ],
   "source": [
    "legwise_df.head(3)"
   ]
  },
  {
   "cell_type": "code",
   "execution_count": 513,
   "metadata": {},
   "outputs": [],
   "source": [
    "import geoplot as gplt\n",
    "import geoplot.crs as gcrs\n",
    "from shapely.geometry import Point"
   ]
  },
  {
   "cell_type": "code",
   "execution_count": 523,
   "metadata": {},
   "outputs": [
    {
     "data": {
      "text/plain": [
       "<cartopy.mpl.geoaxes.GeoAxesSubplot at 0x1a56aee160>"
      ]
     },
     "execution_count": 523,
     "metadata": {},
     "output_type": "execute_result"
    },
    {
     "data": {
      "image/png": "[encoded data removed]",
      "text/plain": [
       "<Figure size 576x432 with 1 Axes>"
      ]
     },
     "metadata": {
      "needs_background": "light"
     },
     "output_type": "display_data"
    }
   ],
   "source": [
    "gplt.sankey(\n",
    "    start=legwise_df.head(1000).apply(lambda srs: Point(srs.p1_long, srs.p1_lat), axis='columns'), \n",
    "    end=legwise_df.head(1000).apply(lambda srs: Point(srs.p2_long, srs.p2_lat), axis='columns'),\n",
    "    scale=list(legwise_df.head(1000).n),\n",
    "    projection=gcrs.AlbersEqualArea(),\n",
    "    color='#d44c19'\n",
    ")"
   ]
  },
  {
   "cell_type": "code",
   "execution_count": 509,
   "metadata": {},
   "outputs": [
    {
     "data": {
      "text/plain": [
       "<matplotlib.axes._subplots.AxesSubplot at 0x1a426b8320>"
      ]
     },
     "execution_count": 509,
     "metadata": {},
     "output_type": "execute_result"
    },
    {
     "data": {
      "image/png": "[encoded data removed]",
      "text/plain": [
       "<Figure size 576x432 with 1 Axes>"
      ]
     },
     "metadata": {
      "needs_background": "light"
     },
     "output_type": "display_data"
    }
   ],
   "source": [
    "# warning -- this plot takes a long time to generate!\n",
    "gplt.sankey(\n",
    "    start=legwise_df.apply(lambda srs: Point(srs.p1_lat, srs.p1_long), axis='columns'), \n",
    "    end=legwise_df.apply(lambda srs: Point(srs.p2_lat, srs.p2_long), axis='columns'),\n",
    "    scale=list(legwise_df.n)\n",
    ")"
   ]
  },
  {
   "cell_type": "markdown",
   "metadata": {},
   "source": [
    "We now have the dataset we need in exactly the right shape for the visualization work."
   ]
  }
 ],
 "metadata": {
  "kernelspec": {
   "display_name": "Python 3",
   "language": "python",
   "name": "python3"
  },
  "language_info": {
   "codemirror_mode": {
    "name": "ipython",
    "version": 3
   },
   "file_extension": ".py",
   "mimetype": "text/x-python",
   "name": "python",
   "nbconvert_exporter": "python",
   "pygments_lexer": "ipython3",
   "version": "3.6.6"
  }
 },
 "nbformat": 4,
 "nbformat_minor": 2
}
